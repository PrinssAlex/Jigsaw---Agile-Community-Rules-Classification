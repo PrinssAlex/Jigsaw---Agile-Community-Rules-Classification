{
 "cells": [
  {
   "cell_type": "markdown",
   "id": "78965b3a",
   "metadata": {},
   "source": [
    "## Jigsaw - Agile Community Rules Classification\n",
    "*This project involves building a **binary classifier** that predicts whether a Reddit comment violates a specific subreddit rule. Given the diverse and nuanced moderation guidelines across subreddits, the task focuses on applying machine learning to real-world content moderation.*\n"
   ]
  },
  {
   "cell_type": "markdown",
   "id": "aa1b1c64",
   "metadata": {},
   "source": [
    "### Overview"
   ]
  },
  {
   "cell_type": "markdown",
   "id": "16bb0bbe",
   "metadata": {},
   "source": [
    "#### - Problem definition\n",
    "Create a binary classifier that predicts whether a Reddit comment broke a specific rule.\n",
    "\n",
    "#### - Data\n",
    "The dataset consists of historical, unlabeled Reddit comments, accompanied by a set of hypothetical rules derived from actual subreddit guidelines. A small labeled development set is provided for training or few-shot learning. The goal is to predict if a comment breaks any of the given rules, with submissions evaluated on their ability to generalize across different community norms.\n",
    "\n",
    "**train.csv** - the training dataset\n",
    "- body - the text of the comment\n",
    "- rule - the rule the comment is judged to be in violation of\n",
    "- subreddit - the forum the comment was made in\n",
    "- positive_example_{1,2} - examples of comments that violate the rule\n",
    "- negative_example_{1,2} - examples of comments that do not violate the rule\n",
    "- rule_violation - the binary target\n",
    "\n",
    "**test.csv** - the test dataset; your objective is to predict the probability of a rule_violation. NOTE: The test dataset contains additional rules that are not seen in the in the training data, so models must be flexible to unseen rules.\n",
    "\n",
    "**sample_submission.csv** - a sample submission file in the correct format.\n",
    "\n",
    "#### - Evaluation metric\n",
    "> Submissions are evaluated on column-averaged AUC."
   ]
  },
  {
   "cell_type": "markdown",
   "id": "cdba6892",
   "metadata": {},
   "source": [
    "### Libraries"
   ]
  },
  {
   "cell_type": "code",
   "execution_count": 1,
   "id": "98d61e33",
   "metadata": {},
   "outputs": [],
   "source": [
    "# import libraries\n",
    "import numpy as np\n",
    "import matplotlib.pyplot as plt \n",
    "import pandas as pd \n",
    "from sklearn.metrics import accuracy_score \n",
    "from sklearn.svm import LinearSVC \n",
    "from sklearn.ensemble import RandomForestClassifier \n",
    "from sklearn.metrics import classification_report\n",
    "from sklearn.model_selection import train_test_split, RandomizedSearchCV, GridSearchCV, cross_val_score, StratifiedKFold \n",
    "from sklearn.preprocessing import OneHotEncoder, StandardScaler \n",
    "import optuna as opt\n",
    "import xgboost as xgb\n",
    "import catboost as cat\n",
    "%matplotlib inline"
   ]
  },
  {
   "cell_type": "markdown",
   "id": "1314f653",
   "metadata": {},
   "source": [
    "### Data Analysis"
   ]
  },
  {
   "cell_type": "code",
   "execution_count": 3,
   "id": "3a7c091b",
   "metadata": {},
   "outputs": [],
   "source": [
    "# import data\n",
    "train = pd.read_csv('data/train.csv')\n",
    "test = pd.read_csv('data/test.csv')\n",
    "submission = pd.read_csv('data/sample_submission.csv')"
   ]
  },
  {
   "cell_type": "code",
   "execution_count": 147,
   "id": "c8f0ed32",
   "metadata": {},
   "outputs": [
    {
     "data": {
      "text/html": [
       "<div>\n",
       "<style scoped>\n",
       "    .dataframe tbody tr th:only-of-type {\n",
       "        vertical-align: middle;\n",
       "    }\n",
       "\n",
       "    .dataframe tbody tr th {\n",
       "        vertical-align: top;\n",
       "    }\n",
       "\n",
       "    .dataframe thead th {\n",
       "        text-align: right;\n",
       "    }\n",
       "</style>\n",
       "<table border=\"1\" class=\"dataframe\">\n",
       "  <thead>\n",
       "    <tr style=\"text-align: right;\">\n",
       "      <th></th>\n",
       "      <th>row_id</th>\n",
       "      <th>body</th>\n",
       "      <th>rule</th>\n",
       "      <th>subreddit</th>\n",
       "      <th>positive_example_1</th>\n",
       "      <th>positive_example_2</th>\n",
       "      <th>negative_example_1</th>\n",
       "      <th>negative_example_2</th>\n",
       "      <th>rule_violation</th>\n",
       "    </tr>\n",
       "  </thead>\n",
       "  <tbody>\n",
       "    <tr>\n",
       "      <th>1050</th>\n",
       "      <td>1050</td>\n",
       "      <td>Even though that's not OP's tree, it sounds li...</td>\n",
       "      <td>No legal advice: Do not offer or request legal...</td>\n",
       "      <td>DIY</td>\n",
       "      <td>You don't have to give a boyfriend notice if h...</td>\n",
       "      <td>This is illegal, 30 day notice minimum is requ...</td>\n",
       "      <td>LPT piratebay, transmission, vpn. Get the musi...</td>\n",
       "      <td>Short term it was amazing, knowing I had ended...</td>\n",
       "      <td>1</td>\n",
       "    </tr>\n",
       "    <tr>\n",
       "      <th>711</th>\n",
       "      <td>711</td>\n",
       "      <td>SD EN Stream | [Stable Quality](http://firstro...</td>\n",
       "      <td>No Advertising: Spam, referral links, unsolici...</td>\n",
       "      <td>soccerstreams</td>\n",
       "      <td>porn video http://y2u.be/..https://bam.bz/OY *...</td>\n",
       "      <td>**Dortmund vs Real Madrid Live Stream**\\n\\n**&lt;...</td>\n",
       "      <td>Check out the rest at: https://medium.com/the-...</td>\n",
       "      <td>[This mixtape is lit FAM!](https://beholdthear...</td>\n",
       "      <td>0</td>\n",
       "    </tr>\n",
       "    <tr>\n",
       "      <th>293</th>\n",
       "      <td>293</td>\n",
       "      <td>NAL but since they do own those pictures, and ...</td>\n",
       "      <td>No legal advice: Do not offer or request legal...</td>\n",
       "      <td>legaladvice</td>\n",
       "      <td>1. Just assuming your husbands rights were rea...</td>\n",
       "      <td>Sue your father, destroy your relationship wit...</td>\n",
       "      <td>Can I slam them in a door? \\n\\nCan I kick them...</td>\n",
       "      <td>bestway is to sell to local ppl from ur countr...</td>\n",
       "      <td>1</td>\n",
       "    </tr>\n",
       "    <tr>\n",
       "      <th>477</th>\n",
       "      <td>477</td>\n",
       "      <td>&gt;Because you're not supposed to sexually penet...</td>\n",
       "      <td>No legal advice: Do not offer or request legal...</td>\n",
       "      <td>news</td>\n",
       "      <td>Is it possible for a father to give up visitat...</td>\n",
       "      <td>You could take a chance and skip taxes for tha...</td>\n",
       "      <td>Simple solution, if forced to perform such sur...</td>\n",
       "      <td>I actually seriously mutilated someones nipple...</td>\n",
       "      <td>0</td>\n",
       "    </tr>\n",
       "    <tr>\n",
       "      <th>1950</th>\n",
       "      <td>1950</td>\n",
       "      <td>Must Watch : https://www.youtube.com/watch?v=d...</td>\n",
       "      <td>No Advertising: Spam, referral links, unsolici...</td>\n",
       "      <td>videos</td>\n",
       "      <td>(US only)  Save on 20% on high capacity 2000...</td>\n",
       "      <td>strange things  with her that slut  hole  gon...</td>\n",
       "      <td>try the package made available by [ArenaVision...</td>\n",
       "      <td>SD/HD/Mobile GG.GG/42toi\\n\\n\\nGG.GG/42toi\\n\\n\\...</td>\n",
       "      <td>0</td>\n",
       "    </tr>\n",
       "    <tr>\n",
       "      <th>269</th>\n",
       "      <td>269</td>\n",
       "      <td>/r/krat0m &lt;-subscribe for free kilo of strong ...</td>\n",
       "      <td>No Advertising: Spam, referral links, unsolici...</td>\n",
       "      <td>gaming</td>\n",
       "      <td>240K if ur interested \\nhttps://steamcommunity...</td>\n",
       "      <td>call whores watch for you herein http://onj.me...</td>\n",
       "      <td>This is what I used to jailbreak: http://iemul...</td>\n",
       "      <td>[Arsenal vs Ludogorets HD Stream](http://strea...</td>\n",
       "      <td>0</td>\n",
       "    </tr>\n",
       "  </tbody>\n",
       "</table>\n",
       "</div>"
      ],
      "text/plain": [
       "      row_id                                               body  \\\n",
       "1050    1050  Even though that's not OP's tree, it sounds li...   \n",
       "711      711  SD EN Stream | [Stable Quality](http://firstro...   \n",
       "293      293  NAL but since they do own those pictures, and ...   \n",
       "477      477  >Because you're not supposed to sexually penet...   \n",
       "1950    1950  Must Watch : https://www.youtube.com/watch?v=d...   \n",
       "269      269  /r/krat0m <-subscribe for free kilo of strong ...   \n",
       "\n",
       "                                                   rule      subreddit  \\\n",
       "1050  No legal advice: Do not offer or request legal...            DIY   \n",
       "711   No Advertising: Spam, referral links, unsolici...  soccerstreams   \n",
       "293   No legal advice: Do not offer or request legal...    legaladvice   \n",
       "477   No legal advice: Do not offer or request legal...           news   \n",
       "1950  No Advertising: Spam, referral links, unsolici...         videos   \n",
       "269   No Advertising: Spam, referral links, unsolici...         gaming   \n",
       "\n",
       "                                     positive_example_1  \\\n",
       "1050  You don't have to give a boyfriend notice if h...   \n",
       "711   porn video http://y2u.be/..https://bam.bz/OY *...   \n",
       "293   1. Just assuming your husbands rights were rea...   \n",
       "477   Is it possible for a father to give up visitat...   \n",
       "1950    (US only)  Save on 20% on high capacity 2000...   \n",
       "269   240K if ur interested \\nhttps://steamcommunity...   \n",
       "\n",
       "                                     positive_example_2  \\\n",
       "1050  This is illegal, 30 day notice minimum is requ...   \n",
       "711   **Dortmund vs Real Madrid Live Stream**\\n\\n**<...   \n",
       "293   Sue your father, destroy your relationship wit...   \n",
       "477   You could take a chance and skip taxes for tha...   \n",
       "1950   strange things  with her that slut  hole  gon...   \n",
       "269   call whores watch for you herein http://onj.me...   \n",
       "\n",
       "                                     negative_example_1  \\\n",
       "1050  LPT piratebay, transmission, vpn. Get the musi...   \n",
       "711   Check out the rest at: https://medium.com/the-...   \n",
       "293   Can I slam them in a door? \\n\\nCan I kick them...   \n",
       "477   Simple solution, if forced to perform such sur...   \n",
       "1950  try the package made available by [ArenaVision...   \n",
       "269   This is what I used to jailbreak: http://iemul...   \n",
       "\n",
       "                                     negative_example_2  rule_violation  \n",
       "1050  Short term it was amazing, knowing I had ended...               1  \n",
       "711   [This mixtape is lit FAM!](https://beholdthear...               0  \n",
       "293   bestway is to sell to local ppl from ur countr...               1  \n",
       "477   I actually seriously mutilated someones nipple...               0  \n",
       "1950  SD/HD/Mobile GG.GG/42toi\\n\\n\\nGG.GG/42toi\\n\\n\\...               0  \n",
       "269   [Arsenal vs Ludogorets HD Stream](http://strea...               0  "
      ]
     },
     "execution_count": 147,
     "metadata": {},
     "output_type": "execute_result"
    }
   ],
   "source": [
    "# view train data\n",
    "train.sample(frac=.003)"
   ]
  },
  {
   "cell_type": "markdown",
   "id": "07448fb1",
   "metadata": {},
   "source": [
    "Note: The rule could be feature engineerd to have like for example No_Advertising_Spam, No_Advertising_referral_links ..."
   ]
  },
  {
   "cell_type": "code",
   "execution_count": 146,
   "id": "e5fffd88",
   "metadata": {},
   "outputs": [
    {
     "data": {
      "text/html": [
       "<div>\n",
       "<style scoped>\n",
       "    .dataframe tbody tr th:only-of-type {\n",
       "        vertical-align: middle;\n",
       "    }\n",
       "\n",
       "    .dataframe tbody tr th {\n",
       "        vertical-align: top;\n",
       "    }\n",
       "\n",
       "    .dataframe thead th {\n",
       "        text-align: right;\n",
       "    }\n",
       "</style>\n",
       "<table border=\"1\" class=\"dataframe\">\n",
       "  <thead>\n",
       "    <tr style=\"text-align: right;\">\n",
       "      <th></th>\n",
       "      <th>row_id</th>\n",
       "      <th>body</th>\n",
       "      <th>rule</th>\n",
       "      <th>subreddit</th>\n",
       "      <th>positive_example_1</th>\n",
       "      <th>positive_example_2</th>\n",
       "      <th>negative_example_1</th>\n",
       "      <th>negative_example_2</th>\n",
       "    </tr>\n",
       "  </thead>\n",
       "  <tbody>\n",
       "    <tr>\n",
       "      <th>0</th>\n",
       "      <td>2029</td>\n",
       "      <td>NEW RAP GROUP 17. CHECK US OUT https://soundcl...</td>\n",
       "      <td>No Advertising: Spam, referral links, unsolici...</td>\n",
       "      <td>hiphopheads</td>\n",
       "      <td>Hey, guys, just wanted to drop in and invite y...</td>\n",
       "      <td>Cum Swallowing Hottie Katrina Kaif Cartoon Xvi...</td>\n",
       "      <td>SD Stream Eng - [Chelsea TV USA](http://soccer...</td>\n",
       "      <td>HD Streams: |[ENG HD Stoke vs Manchester Unite...</td>\n",
       "    </tr>\n",
       "    <tr>\n",
       "      <th>1</th>\n",
       "      <td>2030</td>\n",
       "      <td>Make your life comfortable. Get up to 15% Disc...</td>\n",
       "      <td>No legal advice: Do not offer or request legal...</td>\n",
       "      <td>AskReddit</td>\n",
       "      <td>Get a lawyer and get the security camera foota...</td>\n",
       "      <td>That isn't drastic. You tried reaching out to ...</td>\n",
       "      <td>So what are you going to do with the insurance...</td>\n",
       "      <td>It's just for Austria &amp; Germany. If you still ...</td>\n",
       "    </tr>\n",
       "    <tr>\n",
       "      <th>9</th>\n",
       "      <td>2038</td>\n",
       "      <td>Free paypal cards here!! https://www.pointspri...</td>\n",
       "      <td>No Advertising: Spam, referral links, unsolici...</td>\n",
       "      <td>pics</td>\n",
       "      <td>she will come your home open her legs with  an...</td>\n",
       "      <td>Old and young  your girl-next-door make sex wi...</td>\n",
       "      <td>i think  the conjuring 2 is not bad movie ,The...</td>\n",
       "      <td>wow, she's so beautyful\\n&gt;[Sakura Vietnam](htt...</td>\n",
       "    </tr>\n",
       "    <tr>\n",
       "      <th>3</th>\n",
       "      <td>2032</td>\n",
       "      <td>watch  hooters  best  therein  http://clickan...</td>\n",
       "      <td>No Advertising: Spam, referral links, unsolici...</td>\n",
       "      <td>personalfinance</td>\n",
       "      <td>Earn 50,000 bonus points with Chase Sapphire P...</td>\n",
       "      <td>Cool, front page! I made this print along with...</td>\n",
       "      <td>[Full HD Movie Online Free](http://www.flickma...</td>\n",
       "      <td>* Karambit Black Pearl\\n* 0.02137822 Float (un...</td>\n",
       "    </tr>\n",
       "    <tr>\n",
       "      <th>7</th>\n",
       "      <td>2036</td>\n",
       "      <td>[This mixtape is lit FAM!](https://beholdthear...</td>\n",
       "      <td>No Advertising: Spam, referral links, unsolici...</td>\n",
       "      <td>BlackPeopleTwitter</td>\n",
       "      <td>watch good one hooters there http://https://x5...</td>\n",
       "      <td>bad pussies waiting for you herein http://gour...</td>\n",
       "      <td>[Full HD Movie Online Free](http://www.flickma...</td>\n",
       "      <td>* Computers :http://livematchstreamz.blogspot....</td>\n",
       "    </tr>\n",
       "  </tbody>\n",
       "</table>\n",
       "</div>"
      ],
      "text/plain": [
       "   row_id                                               body  \\\n",
       "0    2029  NEW RAP GROUP 17. CHECK US OUT https://soundcl...   \n",
       "1    2030  Make your life comfortable. Get up to 15% Disc...   \n",
       "9    2038  Free paypal cards here!! https://www.pointspri...   \n",
       "3    2032   watch  hooters  best  therein  http://clickan...   \n",
       "7    2036  [This mixtape is lit FAM!](https://beholdthear...   \n",
       "\n",
       "                                                rule           subreddit  \\\n",
       "0  No Advertising: Spam, referral links, unsolici...         hiphopheads   \n",
       "1  No legal advice: Do not offer or request legal...           AskReddit   \n",
       "9  No Advertising: Spam, referral links, unsolici...                pics   \n",
       "3  No Advertising: Spam, referral links, unsolici...     personalfinance   \n",
       "7  No Advertising: Spam, referral links, unsolici...  BlackPeopleTwitter   \n",
       "\n",
       "                                  positive_example_1  \\\n",
       "0  Hey, guys, just wanted to drop in and invite y...   \n",
       "1  Get a lawyer and get the security camera foota...   \n",
       "9  she will come your home open her legs with  an...   \n",
       "3  Earn 50,000 bonus points with Chase Sapphire P...   \n",
       "7  watch good one hooters there http://https://x5...   \n",
       "\n",
       "                                  positive_example_2  \\\n",
       "0  Cum Swallowing Hottie Katrina Kaif Cartoon Xvi...   \n",
       "1  That isn't drastic. You tried reaching out to ...   \n",
       "9  Old and young  your girl-next-door make sex wi...   \n",
       "3  Cool, front page! I made this print along with...   \n",
       "7  bad pussies waiting for you herein http://gour...   \n",
       "\n",
       "                                  negative_example_1  \\\n",
       "0  SD Stream Eng - [Chelsea TV USA](http://soccer...   \n",
       "1  So what are you going to do with the insurance...   \n",
       "9  i think  the conjuring 2 is not bad movie ,The...   \n",
       "3  [Full HD Movie Online Free](http://www.flickma...   \n",
       "7  [Full HD Movie Online Free](http://www.flickma...   \n",
       "\n",
       "                                  negative_example_2  \n",
       "0  HD Streams: |[ENG HD Stoke vs Manchester Unite...  \n",
       "1  It's just for Austria & Germany. If you still ...  \n",
       "9  wow, she's so beautyful\\n>[Sakura Vietnam](htt...  \n",
       "3  * Karambit Black Pearl\\n* 0.02137822 Float (un...  \n",
       "7  * Computers :http://livematchstreamz.blogspot....  "
      ]
     },
     "execution_count": 146,
     "metadata": {},
     "output_type": "execute_result"
    }
   ],
   "source": [
    "# view test data\n",
    "test.sample(frac=.5)"
   ]
  },
  {
   "cell_type": "code",
   "execution_count": 150,
   "id": "ce0779f1",
   "metadata": {},
   "outputs": [
    {
     "data": {
      "text/plain": [
       "((2029, 9), (10, 8))"
      ]
     },
     "execution_count": 150,
     "metadata": {},
     "output_type": "execute_result"
    }
   ],
   "source": [
    "# check dimension of train and test data\n",
    "train.shape, test.shape"
   ]
  },
  {
   "cell_type": "markdown",
   "id": "e5d9ce1b",
   "metadata": {},
   "source": [
    "There are 2029 rows/samples and 9 columns/variables in the train dataset. While the test dataset have 10 rows and 8 columns"
   ]
  },
  {
   "cell_type": "code",
   "execution_count": 161,
   "id": "7edd7762",
   "metadata": {},
   "outputs": [
    {
     "name": "stdout",
     "output_type": "stream",
     "text": [
      "['row_id', 'body', 'rule', 'subreddit', 'positive_example_1', 'positive_example_2', 'negative_example_1', 'negative_example_2', 'rule_violation'] \n",
      " ['row_id', 'body', 'rule', 'subreddit', 'positive_example_1', 'positive_example_2', 'negative_example_1', 'negative_example_2']\n"
     ]
    }
   ],
   "source": [
    "print(f'{list(train.columns)} \\n {list(test.columns)}')"
   ]
  },
  {
   "cell_type": "markdown",
   "id": "db9d01ea",
   "metadata": {},
   "source": [
    "Both train and test datasets have same features arranged in same order."
   ]
  },
  {
   "cell_type": "markdown",
   "id": "8e09dbb3",
   "metadata": {},
   "source": [
    "#### Data Wrangling\n",
    "> Assess data and make sure it is ready for ML training"
   ]
  },
  {
   "cell_type": "code",
   "execution_count": 164,
   "id": "16c03aa7",
   "metadata": {},
   "outputs": [
    {
     "data": {
      "text/plain": [
       "<bound method NDFrame.describe of     row_id                                               body  \\\n",
       "0        0  Banks don't want you to know this! Click here ...   \n",
       "1        1  SD Stream [ ENG Link 1] (http://www.sportsstre...   \n",
       "2        2  Lol. Try appealing the ban and say you won't d...   \n",
       "3        3  she will come your home open her legs with  an...   \n",
       "4        4  code free tyrande --->>> [Imgur](http://i.imgu...   \n",
       "..     ...                                                ...   \n",
       "95      95  Use my code for Csgoroll.com  :)\\nFor free $0....   \n",
       "96      96  Read Tom Clancy's, WITHOUT REMORSE, you will k...   \n",
       "97      97  hello, who love watching the movies for free ?...   \n",
       "98      98  Should be said as well: Don't accept any offer...   \n",
       "99      99  Shop at Golden Nugget Jewelers for Engagement ...   \n",
       "\n",
       "                                                 rule        subreddit  \\\n",
       "0   No Advertising: Spam, referral links, unsolici...       Futurology   \n",
       "1   No Advertising: Spam, referral links, unsolici...    soccerstreams   \n",
       "2   No legal advice: Do not offer or request legal...     pcmasterrace   \n",
       "3   No Advertising: Spam, referral links, unsolici...              sex   \n",
       "4   No Advertising: Spam, referral links, unsolici...      hearthstone   \n",
       "..                                                ...              ...   \n",
       "95  No Advertising: Spam, referral links, unsolici...  GlobalOffensive   \n",
       "96  No legal advice: Do not offer or request legal...  TwoXChromosomes   \n",
       "97  No Advertising: Spam, referral links, unsolici...           movies   \n",
       "98  No legal advice: Do not offer or request legal...      legaladvice   \n",
       "99  No Advertising: Spam, referral links, unsolici...        AskReddit   \n",
       "\n",
       "                                   positive_example_1  \\\n",
       "0   If you could tell your younger self something ...   \n",
       "1   [I wanna kiss you all over! Stunning!](http://...   \n",
       "2   Don't break up with him or call the cops.  If ...   \n",
       "3   Selling Tyrande codes for 3€ to paypal. PM. \\n...   \n",
       "4    wow!! amazing reminds me of the old days.Well...   \n",
       "..                                                ...   \n",
       "95  Earn **50,000 bonus points** with Chase Sapphi...   \n",
       "96  This study is propaganda.  Yes, background che...   \n",
       "97  Earn $150 cash back with Chase Freedom®.  Appl...   \n",
       "98  If you're underage, call the cops and tell the...   \n",
       "99   bitches  for free  at this point  show all  h...   \n",
       "\n",
       "                                   positive_example_2  \\\n",
       "0   hunt for lady for jack off in neighbourhood ht...   \n",
       "1   LOLGA.COM is One of the First Professional Onl...   \n",
       "2   It'll be dismissed: https://en.wikipedia.org/w...   \n",
       "3   tight pussy watch for your cock get her at thi...   \n",
       "4   seek for lady for sex in around http://p77.pl/...   \n",
       "..                                                ...   \n",
       "95  Selling Tyrande code for 3€ to paypal. PM if i...   \n",
       "96  You could take a chance and skip taxes for tha...   \n",
       "97  buy my shirt because i want to buy ganja!: htt...   \n",
       "98  I've read all ARS sections involving this very...   \n",
       "99  We support whistle blowers and have a really c...   \n",
       "\n",
       "                                   negative_example_1  \\\n",
       "0   Watch Golden Globe Awards 2017 Live Online in ...   \n",
       "1   #Rapper \\n🚨Straight Outta Cross Keys SC 🚨YouTu...   \n",
       "2   Where is there a site that still works where y...   \n",
       "3   NSFW(obviously) http://spankbang.com/iy3u/vide...   \n",
       "4   must be watch movie https://sites.google.com/s...   \n",
       "..                                                ...   \n",
       "95  \\nSD Stream [Arsenal vs Crystal Palace English...   \n",
       "96  8 years is a short period?\\n\\nAnyway, it's cal...   \n",
       "97  post this video on your account pls <3 : https...   \n",
       "98  The real zinger here is out of all the stupid ...   \n",
       "99  its my asreddit https://www.youtube.com/watch?...   \n",
       "\n",
       "                                   negative_example_2  rule_violation  \n",
       "0   DOUBLE CEE x BANDS EPPS - \"BIRDS\"\\n\\nDOWNLOAD/...               0  \n",
       "1   [15 Amazing Hidden Features Of Google Search Y...               0  \n",
       "2   Because this statement of his is true. It isn'...               1  \n",
       "3   Good News ::Download WhatsApp 2.16.230 APK for...               1  \n",
       "4   We're streaming Pokemon Veitnamese Crystal RIG...               1  \n",
       "..                                                ...             ...  \n",
       "95  FREE HOME IMPROVEMENT QUOTES!\\n\\nhttps://www.i...               1  \n",
       "96  A quick Google search found this: \"you can tri...               0  \n",
       "97  /r/krat0m <-subscribe for free kilo of strong ...               0  \n",
       "98  make sure the rope is tired securely before ki...               1  \n",
       "99  Remember to use a [recruit a friend link](http...               1  \n",
       "\n",
       "[100 rows x 9 columns]>"
      ]
     },
     "execution_count": 164,
     "metadata": {},
     "output_type": "execute_result"
    }
   ],
   "source": [
    "# descriptive statistics on train dataset \n",
    "train[:100].describe"
   ]
  },
  {
   "cell_type": "markdown",
   "id": "be71ec9b",
   "metadata": {},
   "source": [
    "Doesn't give a good output"
   ]
  },
  {
   "cell_type": "code",
   "execution_count": 166,
   "id": "3d8c544a",
   "metadata": {},
   "outputs": [
    {
     "name": "stdout",
     "output_type": "stream",
     "text": [
      "<class 'pandas.core.frame.DataFrame'>\n",
      "RangeIndex: 2029 entries, 0 to 2028\n",
      "Data columns (total 9 columns):\n",
      " #   Column              Non-Null Count  Dtype \n",
      "---  ------              --------------  ----- \n",
      " 0   row_id              2029 non-null   int64 \n",
      " 1   body                2029 non-null   object\n",
      " 2   rule                2029 non-null   object\n",
      " 3   subreddit           2029 non-null   object\n",
      " 4   positive_example_1  2029 non-null   object\n",
      " 5   positive_example_2  2029 non-null   object\n",
      " 6   negative_example_1  2029 non-null   object\n",
      " 7   negative_example_2  2029 non-null   object\n",
      " 8   rule_violation      2029 non-null   int64 \n",
      "dtypes: int64(2), object(7)\n",
      "memory usage: 142.8+ KB\n"
     ]
    }
   ],
   "source": [
    "# let's try .info() \n",
    "train.info() "
   ]
  },
  {
   "cell_type": "markdown",
   "id": "fae5a3ae",
   "metadata": {},
   "source": [
    "There 7 non-numerical columns"
   ]
  },
  {
   "cell_type": "code",
   "execution_count": 171,
   "id": "66cf2da6",
   "metadata": {},
   "outputs": [
    {
     "name": "stdout",
     "output_type": "stream",
     "text": [
      "body\n",
      "rule\n",
      "subreddit\n",
      "positive_example_1\n",
      "positive_example_2\n",
      "negative_example_1\n",
      "negative_example_2\n"
     ]
    }
   ],
   "source": [
    "# confirm non-numeric columns\n",
    "for name,content in train.items():\n",
    "    if not pd.api.types.is_numeric_dtype(content):\n",
    "        print(name)"
   ]
  },
  {
   "cell_type": "code",
   "execution_count": 167,
   "id": "5b4139d7",
   "metadata": {},
   "outputs": [
    {
     "data": {
      "text/plain": [
       "row_id                0\n",
       "body                  0\n",
       "rule                  0\n",
       "subreddit             0\n",
       "positive_example_1    0\n",
       "positive_example_2    0\n",
       "negative_example_1    0\n",
       "negative_example_2    0\n",
       "rule_violation        0\n",
       "dtype: int64"
      ]
     },
     "execution_count": 167,
     "metadata": {},
     "output_type": "execute_result"
    }
   ],
   "source": [
    "# confirm that there are no missing values \n",
    "train.isna().sum()"
   ]
  },
  {
   "cell_type": "markdown",
   "id": "e8629523",
   "metadata": {},
   "source": [
    "- There are no missing values in the train dataset"
   ]
  },
  {
   "cell_type": "code",
   "execution_count": 172,
   "id": "b25d669e",
   "metadata": {},
   "outputs": [
    {
     "name": "stdout",
     "output_type": "stream",
     "text": [
      "<class 'pandas.core.frame.DataFrame'>\n",
      "RangeIndex: 10 entries, 0 to 9\n",
      "Data columns (total 8 columns):\n",
      " #   Column              Non-Null Count  Dtype \n",
      "---  ------              --------------  ----- \n",
      " 0   row_id              10 non-null     int64 \n",
      " 1   body                10 non-null     object\n",
      " 2   rule                10 non-null     object\n",
      " 3   subreddit           10 non-null     object\n",
      " 4   positive_example_1  10 non-null     object\n",
      " 5   positive_example_2  10 non-null     object\n",
      " 6   negative_example_1  10 non-null     object\n",
      " 7   negative_example_2  10 non-null     object\n",
      "dtypes: int64(1), object(7)\n",
      "memory usage: 772.0+ bytes\n"
     ]
    }
   ],
   "source": [
    "test.info()"
   ]
  },
  {
   "cell_type": "markdown",
   "id": "7f824fd6",
   "metadata": {},
   "source": [
    "So far, the main fix required to be done on the data before proceeding to EDA and Modelling is to convert non numerical features to numerical"
   ]
  },
  {
   "cell_type": "code",
   "execution_count": 179,
   "id": "b3d72e05",
   "metadata": {},
   "outputs": [
    {
     "data": {
      "text/plain": [
       "<Axes: >"
      ]
     },
     "execution_count": 179,
     "metadata": {},
     "output_type": "execute_result"
    },
    {
     "data": {
      "image/png": "[encoded data removed]",
      "text/plain": [
       "<Figure size 640x480 with 1 Axes>"
      ]
     },
     "metadata": {},
     "output_type": "display_data"
    }
   ],
   "source": [
    "# check for data imbalance across `rule violation` column\n",
    "train['rule_violation'].hist(grid=False);"
   ]
  },
  {
   "cell_type": "code",
   "execution_count": 176,
   "id": "cb58fb14",
   "metadata": {},
   "outputs": [
    {
     "data": {
      "text/plain": [
       "rule_violation\n",
       "1    0.508132\n",
       "0    0.491868\n",
       "Name: proportion, dtype: float64"
      ]
     },
     "execution_count": 176,
     "metadata": {},
     "output_type": "execute_result"
    }
   ],
   "source": [
    "train['rule_violation'].value_counts(normalize=True)"
   ]
  },
  {
   "cell_type": "markdown",
   "id": "36842720",
   "metadata": {},
   "source": [
    "Data seem balanced"
   ]
  },
  {
   "cell_type": "markdown",
   "id": "a62b9c08",
   "metadata": {},
   "source": [
    "#### Data cleanup"
   ]
  },
  {
   "cell_type": "markdown",
   "id": "851194c1",
   "metadata": {},
   "source": []
  },
  {
   "cell_type": "code",
   "execution_count": null,
   "id": "d07133c2",
   "metadata": {},
   "outputs": [],
   "source": []
  },
  {
   "cell_type": "markdown",
   "id": "b1ec9e6e",
   "metadata": {},
   "source": [
    "#### EDA (Exploratory Data Analysis)\n",
    "> Explore relevant relationships that exists amongst several features"
   ]
  },
  {
   "cell_type": "markdown",
   "id": "7d8bcc64",
   "metadata": {},
   "source": []
  },
  {
   "cell_type": "markdown",
   "id": "40dfa67a",
   "metadata": {},
   "source": [
    "### Modelling"
   ]
  },
  {
   "cell_type": "code",
   "execution_count": null,
   "id": "cfc1177f",
   "metadata": {},
   "outputs": [],
   "source": [
    "# make copy of cleaned data"
   ]
  },
  {
   "cell_type": "markdown",
   "id": "22c3adcb",
   "metadata": {},
   "source": []
  },
  {
   "cell_type": "markdown",
   "id": "ae84a52e",
   "metadata": {},
   "source": [
    "#### - Hyper-parameter tuning"
   ]
  },
  {
   "cell_type": "markdown",
   "id": "81102599",
   "metadata": {},
   "source": []
  },
  {
   "cell_type": "markdown",
   "id": "2589836c",
   "metadata": {},
   "source": [
    "#### - Fit best model"
   ]
  },
  {
   "cell_type": "markdown",
   "id": "a01f0181",
   "metadata": {},
   "source": []
  },
  {
   "cell_type": "markdown",
   "id": "20d5b827",
   "metadata": {},
   "source": [
    "#### - Pre-process test data (optional)"
   ]
  },
  {
   "cell_type": "markdown",
   "id": "e3d76d14",
   "metadata": {},
   "source": []
  },
  {
   "cell_type": "markdown",
   "id": "e8e199d0",
   "metadata": {},
   "source": [
    "#### - Feature importance"
   ]
  },
  {
   "cell_type": "markdown",
   "id": "7651b8fd",
   "metadata": {},
   "source": []
  },
  {
   "cell_type": "markdown",
   "id": "2c2643ad",
   "metadata": {},
   "source": [
    "### Deployment"
   ]
  },
  {
   "cell_type": "markdown",
   "id": "13d39fae",
   "metadata": {},
   "source": []
  },
  {
   "cell_type": "markdown",
   "id": "4c111ee8",
   "metadata": {},
   "source": [
    "### Experiments (optional)"
   ]
  },
  {
   "cell_type": "markdown",
   "id": "3163efbf",
   "metadata": {},
   "source": []
  },
  {
   "cell_type": "markdown",
   "id": "0aa7537c",
   "metadata": {},
   "source": [
    "### Conclusion"
   ]
  },
  {
   "cell_type": "markdown",
   "id": "594bb682",
   "metadata": {},
   "source": []
  }
 ],
 "metadata": {
  "kernelspec": {
   "display_name": "ML",
   "language": "python",
   "name": "python3"
  },
  "language_info": {
   "codemirror_mode": {
    "name": "ipython",
    "version": 3
   },
   "file_extension": ".py",
   "mimetype": "text/x-python",
   "name": "python",
   "nbconvert_exporter": "python",
   "pygments_lexer": "ipython3",
   "version": "3.12.8"
  }
 },
 "nbformat": 4,
 "nbformat_minor": 5
}
