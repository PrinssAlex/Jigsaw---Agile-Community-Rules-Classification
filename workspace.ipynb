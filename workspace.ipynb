{
 "cells": [
  {
   "cell_type": "markdown",
   "id": "e9867dd9",
   "metadata": {},
   "source": [
    "# Jigsaw - Agile Community Rules Classification"
   ]
  }
 ],
 "metadata": {
  "language_info": {
   "name": "python"
  }
 },
 "nbformat": 4,
 "nbformat_minor": 5
}
